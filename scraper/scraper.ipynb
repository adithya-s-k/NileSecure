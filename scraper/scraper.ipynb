{
 "cells": [
  {
   "cell_type": "code",
   "execution_count": 8,
   "metadata": {},
   "outputs": [
    {
     "name": "stdout",
     "output_type": "stream",
     "text": [
      "[{'title': 'Intel Posts', 'link': 'Post Links', 'company': 'Intel', 'os': 'Windows'}, {'title': '2023 Q1 Intel® & LRL Webinar: Blazingly Fast Self-Searching Storage Accelerates Big Data Analytics', 'link': 'https://community.intel.com/t5/Blogs/Products-and-Solutions/FPGA/2023-Q1-Intel-LRL-Webinar-Blazingly-Fast-Self-Searching-Storage/post/1460736', 'company': 'Intel', 'os': 'Windows'}, {'title': 'The National Cybersecurity Strategy – A Step Forward in Promoting a Secure & Resilient Supply Chain', 'link': 'https://community.intel.com/t5/Blogs/Intel/Policy-Intel/The-National-Cybersecurity-Strategy-A-Step-Forward-in-Promoting/post/1461206', 'company': 'Intel', 'os': 'Windows'}, {'title': 'Quantum Research Kernels Workshop', 'link': 'https://community.intel.com/t5/Blogs/Tech-Innovation/Data-Center/Quantum-Research-Kernels-Workshop/post/1458013', 'company': 'Intel', 'os': 'Windows'}, {'title': 'Intel Labs’ Investment in Telemetry Center of Excellence Produces Valuable Industry Insights', 'link': 'https://community.intel.com/t5/Blogs/Tech-Innovation/Data-Center/Intel-Labs-Investment-in-Telemetry-Center-of-Excellence-Produces/post/1460669', 'company': 'Intel', 'os': 'Windows'}, {'title': 'Quantum Researchers Use Intel Quantum SDK to Explore Complex Problem Solving', 'link': 'https://community.intel.com/t5/Blogs/Tech-Innovation/Data-Center/Quantum-Researchers-Use-Intel-Quantum-SDK-to-Explore-Complex/post/1458788', 'company': 'Intel', 'os': 'Windows'}, {'title': 'Meetup: CPU Accelerated Fine-Tuning for Image Segmentation using PyTorch', 'link': 'https://community.intel.com/t5/Blogs/Tech-Innovation/Artificial-Intelligence-AI/Meetup-CPU-Accelerated-Fine-Tuning-for-Image-Segmentation-using/post/1459965', 'company': 'Intel', 'os': 'Windows'}, {'title': 'On-Demand Webinar: Optimize Transformer Model Performance with Intel and Hugging Face', 'link': 'https://community.intel.com/t5/Blogs/Tech-Innovation/Artificial-Intelligence-AI/On-Demand-Webinar-Optimize-Transformer-Model-Performance-with/post/1459881', 'company': 'Intel', 'os': 'Windows'}, {'title': 'Unleash HDR Editing with Affinity Photo 2 Optimized on Intel', 'link': 'https://community.intel.com/t5/Blogs/Tech-Innovation/Client/Unleash-HDR-Editing-with-Affinity-Photo-2-Optimized-on-Intel/post/1459186', 'company': 'Intel', 'os': 'Windows'}, {'title': 'Accelerate Deployment of Immersive Visual Services with Intel’s Converged Edge Media Platform', 'link': 'https://community.intel.com/t5/Blogs/Tech-Innovation/Edge-5G/Accelerate-Deployment-of-Immersive-Visual-Services-with-Intel-s/post/1456624', 'company': 'Intel', 'os': 'Windows'}, {'title': 'Intel and Hewlett Packard Enterprise are building on longstanding leadership to drive 5G', 'link': 'https://community.intel.com/t5/Blogs/Tech-Innovation/Edge-5G/Intel-and-Hewlett-Packard-Enterprise-are-building-on/post/1458509', 'company': 'Intel', 'os': 'Windows'}, {'title': 'Intel Showcasing MEC Blueprint for Private 5G Zero Trust Access at MWC ‘23', 'link': 'https://community.intel.com/t5/Blogs/Tech-Innovation/Edge-5G/Intel-Showcasing-MEC-Blueprint-for-Private-5G-Zero-Trust-Access/post/1458518', 'company': 'Intel', 'os': 'Windows'}, {'title': 'Intel® announces Agilex™ 7 FPGAs Enhanced for Datacenter and Network Infrastructure Workloads', 'link': 'https://community.intel.com/t5/Blogs/Products-and-Solutions/FPGA/Intel-announces-Agilex-7-FPGAs-Enhanced-for-Datacenter-and/post/1455940', 'company': 'Intel', 'os': 'Windows'}, {'title': 'The future of RAN is on standard compute', 'link': 'https://community.intel.com/t5/Blogs/Tech-Innovation/Edge-5G/The-future-of-RAN-is-on-standard-compute/post/1458508', 'company': 'Intel', 'os': 'Windows'}, {'title': 'A Look Ahead at Mobility in 2023', 'link': 'https://community.intel.com/t5/Blogs/Thought-Leadership/Big-Ideas/A-Look-Ahead-at-Mobility-in-2023/post/1452426', 'company': 'Intel', 'os': 'Windows'}]\n"
     ]
    },
    {
     "data": {
      "text/plain": [
       "<pymongo.results.InsertManyResult at 0x21dc956b760>"
      ]
     },
     "execution_count": 8,
     "metadata": {},
     "output_type": "execute_result"
    }
   ],
   "source": [
    "import pymongo\n",
    "import csv\n",
    "\n",
    "\n",
    "clustering = pymongo.MongoClient(process.env.MONGODB_URI)\n",
    "db = clustering[\"test\"]\n",
    "collection = db[\"searchresults\"]\n",
    "# Open the CSV file\n",
    "\n",
    "courses = []\n",
    "\n",
    "with open('./data/intel_links.csv', encoding='utf-8') as csv_file:\n",
    "    # Create a CSV reader object\n",
    "    csv_reader = csv.reader(csv_file)\n",
    "    i = 0\n",
    "    # Iterate over each row in the CSV file\n",
    "    for row in csv_reader:\n",
    "        if i < 15:\n",
    "            document = {\"title\": row[0], \"link\": row[3],\"company\":\"Intel\",\"os\":\"Windows\"}\n",
    "            courses.append(document)\n",
    "        else:\n",
    "            break\n",
    "        i = i + 1\n",
    "    \n",
    "    print(courses)\n",
    "\n",
    "# document_101 = [{\"name\": \"hello\" },{ \"name\": \"world\" }]\n",
    "# collection.insert_many(document_101)\n",
    "\n",
    "collection.insert_many(courses)"
   ]
  },
  {
   "cell_type": "code",
   "execution_count": 6,
   "metadata": {},
   "outputs": [],
   "source": [
    "import pymongo\n",
    "\n",
    "def delete_database():\n",
    "  clustering = pymongo.MongoClient(process.env.MONGODB_URI)\n",
    "  db = clustering[\"test\"]\n",
    "  collection = db[\"searchresults1\"]\n",
    "  # Delete the collection\n",
    "  collection.delete_many({})\n",
    "  \n",
    "delete_database()"
   ]
  }
 ],
 "metadata": {
  "kernelspec": {
   "display_name": "env",
   "language": "python",
   "name": "python3"
  },
  "language_info": {
   "codemirror_mode": {
    "name": "ipython",
    "version": 3
   },
   "file_extension": ".py",
   "mimetype": "text/x-python",
   "name": "python",
   "nbconvert_exporter": "python",
   "pygments_lexer": "ipython3",
   "version": "3.11.0"
  },
  "orig_nbformat": 4
 },
 "nbformat": 4,
 "nbformat_minor": 2
}
